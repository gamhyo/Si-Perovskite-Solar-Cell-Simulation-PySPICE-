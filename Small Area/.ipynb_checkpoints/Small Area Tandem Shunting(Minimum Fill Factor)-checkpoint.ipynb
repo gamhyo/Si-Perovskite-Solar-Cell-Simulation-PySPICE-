{
 "cells": [
  {
   "cell_type": "code",
   "execution_count": 1,
   "id": "9d331ac8",
   "metadata": {},
   "outputs": [],
   "source": [
    "import numpy as np\n",
    "import matplotlib.pyplot as plt\n",
    "import matplotlib.ticker as ticker\n",
    "import PySpice.Logging.Logging as Logging\n",
    "logger = Logging.setup_logging()\n",
    "\n",
    "from PySpice.Doc.ExampleTools import find_libraries\n",
    "from PySpice.Spice.Netlist import Circuit\n",
    "from PySpice.Spice.Library import SpiceLibrary\n",
    "from PySpice.Unit import *\n",
    "from PySpice.Probe.Plot import plot\n",
    "from PySpice.Logging.Logging import setup_logging\n",
    "\n",
    "setup_logging()\n",
    "\n",
    "libraries_path = find_libraries()\n",
    "spice_library = SpiceLibrary(libraries_path)\n",
    "spice_library = SpiceLibrary(find_libraries())"
   ]
  },
  {
   "cell_type": "code",
   "execution_count": 2,
   "id": "e784425c",
   "metadata": {},
   "outputs": [
    {
     "name": "stdout",
     "output_type": "stream",
     "text": [
      "2023-08-04 18:09:53,921 - PySpice.Spice.NgSpice.Shared.NgSpiceShared - Shared.WARNING - Unsupported Ngspice version 38\n"
     ]
    }
   ],
   "source": [
    "rsh_top_values = np.linspace(0, 500, 1000)  # Range of rs_top values\n",
    "v_oc_values = []  # List to store v_oc values\n",
    "i_sc_values = []  # List to store i_sc values\n",
    "fill_factor_values = []  # List to store fill factor values\n",
    "efficiency_values = []  # List to store efficiency values\n",
    "\n",
    "\n",
    "for rsh_top in rsh_top_values:\n",
    "    circuit = Circuit('One perovskite/silicon tandem cell')\n",
    "    circuit.model('D1_top', 'D', IS = 8.8e-23, N =1)\n",
    "    circuit.model('D2_top', 'D', IS = 2.62e-13, N =2)\n",
    "    circuit.model('D1_bot', 'D', IS=1.3339e-14, N =1)\n",
    "    circuit.model('D2_bot', 'D', IS=6.5674e-19, N =2)\n",
    "\n",
    "    circuit.V('input', '6', circuit.gnd, 0@u_V)\n",
    "    circuit.R('s_top', '5', '6', 0@u_Ohm)\n",
    "    circuit.D('1_top', '5', '4', model='D1_top')\n",
    "    circuit.D('2_top', '5', '4', model='D2_top')\n",
    "    circuit.R('sh_top', '5', '4', rsh_top@u_Ohm)\n",
    "    circuit.I('ph_top', '4', '5', 19.65@u_mA)\n",
    "    circuit.R('c_top', '4', '3', 0@u_Ohm)\n",
    "    circuit.R('c_bot', '3', '2', 0@u_Ohm)\n",
    "    circuit.R('s_bot', '2', '1', 0@u_Ohm)\n",
    "    circuit.D('1_bot', '1', circuit.gnd, model='D1_bot')\n",
    "    circuit.D('2_bot', '1', circuit.gnd, model='D2_bot')\n",
    "    circuit.R('sh_bot', '1', circuit.gnd, 12@u_kOhm)\n",
    "    circuit.I('ph_bot', circuit.gnd, '1', 19.65@u_mA)\n",
    "\n",
    "    simulator = circuit.simulator(temperature=25, nominal_temperature=25)\n",
    "    analysis = simulator.dc(Vinput=slice(0, 2, 0.0001))\n",
    "\n",
    "    # Calculate open circuit voltage\n",
    "    voltage = analysis.nodes['6'].as_ndarray()\n",
    "    current = analysis.branches['vinput'].as_ndarray()\n",
    "    v_oc_index = np.argmin(np.abs(current))\n",
    "    v_oc = voltage[v_oc_index]\n",
    "    v_oc_values.append(v_oc)\n",
    "\n",
    "    # Calculate short circuit current\n",
    "    i_sc_index = np.argmin(np.abs(voltage))\n",
    "    i_sc = current[i_sc_index]\n",
    "    i_sc_values.append(i_sc)\n",
    "    \n",
    "    \n",
    "    # Calculate maximum power point\n",
    "    power = voltage * current\n",
    "    mpp_index = np.argmax(power)\n",
    "    v_mpp = voltage[mpp_index]\n",
    "    i_mpp = current[mpp_index]\n",
    "    max_power = power[mpp_index]\n",
    "    efficiency = (max_power/(0.1))*100\n",
    "    efficiency_values.append(efficiency)\n",
    "    \n",
    "    # Calculate fill factor\n",
    "    fill_factor = ((v_mpp * i_mpp) / (v_oc * i_sc))*100\n",
    "    fill_factor_values.append(fill_factor)"
   ]
  },
  {
   "cell_type": "code",
   "execution_count": 3,
   "id": "9ea05228",
   "metadata": {},
   "outputs": [
    {
     "name": "stdout",
     "output_type": "stream",
     "text": [
      "Resistace value at minimum fill factor: 58.058058058058066 Ohm\n"
     ]
    }
   ],
   "source": [
    "# 최소 fill factor 값을 찾고 해당 값을 가지는 저항 값을 구함\n",
    "min_fill_factor = min(fill_factor_values)\n",
    "min_fill_factor_index = fill_factor_values.index(min_fill_factor)\n",
    "min_fill_factor_resistance = rsh_top_values[min_fill_factor_index]\n",
    "\n",
    "print(\"Resistace value at minimum fill factor:\", min_fill_factor_resistance, \"Ohm\")"
   ]
  },
  {
   "cell_type": "code",
   "execution_count": null,
   "id": "c368ddd5",
   "metadata": {},
   "outputs": [],
   "source": []
  }
 ],
 "metadata": {
  "kernelspec": {
   "display_name": "pyspice",
   "language": "python",
   "name": "pyspice"
  },
  "language_info": {
   "codemirror_mode": {
    "name": "ipython",
    "version": 3
   },
   "file_extension": ".py",
   "mimetype": "text/x-python",
   "name": "python",
   "nbconvert_exporter": "python",
   "pygments_lexer": "ipython3",
   "version": "3.10.12"
  }
 },
 "nbformat": 4,
 "nbformat_minor": 5
}
